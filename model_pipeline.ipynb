{
 "cells": [
  {
   "cell_type": "markdown",
   "metadata": {},
   "source": [
    "# Welcome to this Transfer Learning Notebook\n",
    "In this notebook we allow you to train a transfer learning model which can classify images in several brand categories just on a handfull cases"
   ]
  },
  {
   "cell_type": "code",
   "execution_count": null,
   "metadata": {},
   "outputs": [],
   "source": [
    "### importing some functionalities\n",
    "from transfer_learning import Transfer_learning_classification ### for model training\n",
    "from model_inference import Predicting_model ### for model inference\n",
    "from split_data_train_val import run_split ### for training test and validation set splitting"
   ]
  },
  {
   "cell_type": "code",
   "execution_count": null,
   "metadata": {},
   "outputs": [],
   "source": [
    "### Already have image directories under /data/images/ ? --> Like: kellogs, nestle\n",
    "### Yes? -> run me\n",
    "### No?  -> add a directory for each label with image files\n",
    "\n",
    "run_split() ### splits and creates new directories in the /data/images_train/ directory"
   ]
  },
  {
   "cell_type": "code",
   "execution_count": null,
   "metadata": {},
   "outputs": [],
   "source": [
    "# Train once with mobilenet (uses data at /data/images_train/ and saved model at /models/model.pth)\n",
    "model_train= Transfer_learning_classification(epochs=1,lr=0.01,momentum=0.9,gamma=0.1,step_size=7,mobilenet=True) # Here you can add multiple parameters\n",
    "model_train.train_evaluate_finetuning()"
   ]
  },
  {
   "cell_type": "code",
   "execution_count": null,
   "metadata": {},
   "outputs": [],
   "source": [
    "### Inference using the trained model from the above cell block\n",
    "\n",
    "MODEL_PATH = 'models/model.pth'\n",
    "classes_path = 'data/classes.txt' ### classes representing the different labels\n",
    "\n",
    "predict_model= Predicting_model(model_path=MODEL_PATH,classes_path=classes_path)\n",
    "predict_model.predict_image(\"data/random_test_images/randomNestle.jpeg\")"
   ]
  },
  {
   "cell_type": "markdown",
   "metadata": {},
   "source": [
    "## TRY IT OUT YOURSELF!\n",
    "\n",
    "clear the /data/images/ directory and the /data/images_train/ directory and add directories (like kellogs and nestle) to the /data/images/ with the names of the brands as title of the directory. Add several logo images to each directory and run the `run_split()` function again. Afterwards retrain the model and use the `predict_model.predict_image()` on a random image that you saved under data/random_test_images/ directory!\n",
    "\n",
    "Have Fun"
   ]
  }
 ],
 "metadata": {
  "interpreter": {
   "hash": "aee8b7b246df8f9039afb4144a1f6fd8d2ca17a180786b69acc140d282b71a49"
  },
  "kernelspec": {
   "display_name": "Python 3.9.10 64-bit",
   "language": "python",
   "name": "python3"
  },
  "language_info": {
   "codemirror_mode": {
    "name": "ipython",
    "version": 3
   },
   "file_extension": ".py",
   "mimetype": "text/x-python",
   "name": "python",
   "nbconvert_exporter": "python",
   "pygments_lexer": "ipython3",
   "version": "3.9.10"
  },
  "orig_nbformat": 4
 },
 "nbformat": 4,
 "nbformat_minor": 2
}
